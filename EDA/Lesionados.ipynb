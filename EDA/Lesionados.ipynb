{
 "cells": [
  {
   "cell_type": "code",
   "execution_count": 2,
   "metadata": {},
   "outputs": [],
   "source": [
    "import pandas as pd\n",
    "\n",
    "# se importa el dataset  lesiones  la hoja VICTIMAS\n",
    "\n",
    "Lesionados1= pd.read_excel(r\"D:\\Users\\Cesar\\Desktop\\Proyecto_individial_1\\Siniestros_viales\\Data_set\\lesiones.xlsx\", engine=\"openpyxl\", sheet_name=\"VICTIMAS\")\n"
   ]
  },
  {
   "cell_type": "code",
   "execution_count": 3,
   "metadata": {},
   "outputs": [],
   "source": [
    "# Se guarda en un dataframe formato csv para posteriores analisis, trasformaciones y manipulaciones \n",
    "\n",
    "Lesionados1.to_csv(\"df_lesionados.csv\", index=False)"
   ]
  },
  {
   "cell_type": "code",
   "execution_count": 4,
   "metadata": {},
   "outputs": [],
   "source": [
    "# Se importa el dataframe creado en el archivo para leerlo \n",
    "\n",
    "Lesionados = pd.read_csv(\"D:\\\\Users\\\\Cesar\\\\Desktop\\\\Proyecto_individial_1\\\\Siniestros_viales\\\\EDA\\\\df_lesionados.csv\")\n"
   ]
  },
  {
   "cell_type": "code",
   "execution_count": 5,
   "metadata": {},
   "outputs": [],
   "source": [
    "# Se crea un nuevo dataframe en formato csv  \n",
    "\n",
    "Lesionados.to_csv('Lesionados.csv', index=False)"
   ]
  },
  {
   "cell_type": "code",
   "execution_count": 6,
   "metadata": {},
   "outputs": [
    {
     "name": "stdout",
     "output_type": "stream",
     "text": [
      "<class 'pandas.core.frame.DataFrame'>\n",
      "RangeIndex: 27605 entries, 0 to 27604\n",
      "Data columns (total 9 columns):\n",
      " #   Column            Non-Null Count  Dtype \n",
      "---  ------            --------------  ----- \n",
      " 0   ID hecho          27605 non-null  object\n",
      " 1   AAA               27605 non-null  int64 \n",
      " 2   MM                27605 non-null  int64 \n",
      " 3   DD                27605 non-null  int64 \n",
      " 4   FECHA             27605 non-null  object\n",
      " 5   VEHICULO_VICTIMA  27605 non-null  object\n",
      " 6   SEXO              27605 non-null  object\n",
      " 7   EDAD_VICTIMA      27605 non-null  object\n",
      " 8   GRAVEDAD          27605 non-null  object\n",
      "dtypes: int64(3), object(6)\n",
      "memory usage: 1.9+ MB\n"
     ]
    }
   ],
   "source": [
    "Lesionados.info()"
   ]
  },
  {
   "cell_type": "code",
   "execution_count": 7,
   "metadata": {},
   "outputs": [],
   "source": [
    "#En esta bloque de codigo vamos hacer transformaciones de tipo de datos segun el analisis para facilitar las consultas \n",
    "#y las visulizaciones \n",
    "#En la siguiente linea de codigo vamos a transformar columnas con tipo de datos \"object\" a \"Category\" \n",
    "categoricas = ['VEHICULO_VICTIMA','SEXO','GRAVEDAD']\n",
    "Lesionados[categoricas] = Lesionados[categoricas].astype('category')"
   ]
  },
  {
   "cell_type": "code",
   "execution_count": 8,
   "metadata": {},
   "outputs": [],
   "source": [
    "#En la siguiente linea de codigo vamos a transformar columnas con tipo de datos \"object\" a a tipo 'int' con manejo de errores \n",
    "enteros = ['EDAD_VICTIMA']\n",
    "for col in enteros:\n",
    "    Lesionados[col] = pd.to_numeric(Lesionados[col], errors='coerce', downcast='integer').fillna(0).astype(int)"
   ]
  },
  {
   "cell_type": "code",
   "execution_count": 9,
   "metadata": {},
   "outputs": [
    {
     "name": "stdout",
     "output_type": "stream",
     "text": [
      "<class 'pandas.core.frame.DataFrame'>\n",
      "RangeIndex: 27605 entries, 0 to 27604\n",
      "Data columns (total 9 columns):\n",
      " #   Column            Non-Null Count  Dtype   \n",
      "---  ------            --------------  -----   \n",
      " 0   ID hecho          27605 non-null  object  \n",
      " 1   AAA               27605 non-null  int64   \n",
      " 2   MM                27605 non-null  int64   \n",
      " 3   DD                27605 non-null  int64   \n",
      " 4   FECHA             27605 non-null  object  \n",
      " 5   VEHICULO_VICTIMA  27605 non-null  category\n",
      " 6   SEXO              27605 non-null  category\n",
      " 7   EDAD_VICTIMA      27605 non-null  int32   \n",
      " 8   GRAVEDAD          27605 non-null  category\n",
      "dtypes: category(3), int32(1), int64(3), object(2)\n",
      "memory usage: 1.2+ MB\n"
     ]
    }
   ],
   "source": [
    "#En esta linea de codigo verificamos los cambios relizados \n",
    "Lesionados.info()"
   ]
  },
  {
   "cell_type": "code",
   "execution_count": 10,
   "metadata": {},
   "outputs": [
    {
     "data": {
      "text/plain": [
       "ID hecho            0\n",
       "AAA                 0\n",
       "MM                  0\n",
       "DD                  0\n",
       "FECHA               0\n",
       "VEHICULO_VICTIMA    0\n",
       "SEXO                0\n",
       "EDAD_VICTIMA        0\n",
       "GRAVEDAD            0\n",
       "dtype: int64"
      ]
     },
     "execution_count": 10,
     "metadata": {},
     "output_type": "execute_result"
    }
   ],
   "source": [
    "Lesionados.isnull().sum()"
   ]
  },
  {
   "cell_type": "code",
   "execution_count": 28,
   "metadata": {},
   "outputs": [
    {
     "data": {
      "image/png": "[encoded data removed]",
      "text/plain": [
       "<Figure size 640x480 with 1 Axes>"
      ]
     },
     "metadata": {},
     "output_type": "display_data"
    }
   ],
   "source": [
    "import matplotlib.pyplot as plt\n",
    "\n",
    "# Supongamos que tienes un DataFrame llamado df con una columna 'Variable' que deseas visualizar\n",
    "# df = pd.read_csv('tu_archivo.csv')  # Asegúrate de cargar tus datos adecuadamente\n",
    "\n",
    "# Visualizar el histograma de la variable 'Variable'\n",
    "plt.hist(Lesionados['EDAD_VICTIMA'], bins=20, color='blue', alpha=0.7)\n",
    "plt.title('Histograma de la Variable')\n",
    "plt.xlabel('Valor de la Variable')\n",
    "plt.ylabel('Frecuencia')\n",
    "plt.show()\n"
   ]
  },
  {
   "cell_type": "code",
   "execution_count": 30,
   "metadata": {},
   "outputs": [
    {
     "name": "stderr",
     "output_type": "stream",
     "text": [
      "C:\\Users\\Cesar\\AppData\\Local\\Temp\\ipykernel_14000\\717251512.py:8: FutureWarning: \n",
      "\n",
      "Passing `palette` without assigning `hue` is deprecated and will be removed in v0.14.0. Assign the `x` variable to `hue` and set `legend=False` for the same effect.\n",
      "\n",
      "  sns.countplot(x='GRAVEDAD', data=Lesionados, palette='pastel')\n"
     ]
    },
    {
     "data": {
      "image/png": "[encoded data removed]",
      "text/plain": [
       "<Figure size 640x480 with 1 Axes>"
      ]
     },
     "metadata": {},
     "output_type": "display_data"
    }
   ],
   "source": [
    "import seaborn as sns\n",
    "\n",
    "\n",
    "# Supongamos que tienes un DataFrame llamado df con una columna 'Categorica' que deseas visualizar\n",
    "# df = pd.read_csv('tu_archivo.csv')  # Asegúrate de cargar tus datos adecuadamente\n",
    "\n",
    "# Crear un gráfico de barras con Seaborn\n",
    "sns.countplot(x='GRAVEDAD', data=Lesionados, palette='pastel')\n",
    "plt.title('Gráfico de Barras para Categorías con Seaborn')\n",
    "plt.xlabel('Categoría')\n",
    "plt.ylabel('Frecuencia')\n",
    "plt.xticks(rotation=45, ha='right')  # Rotar etiquetas en el eje x para mejor legibilidad\n",
    "plt.show()\n"
   ]
  },
  {
   "cell_type": "code",
   "execution_count": 20,
   "metadata": {},
   "outputs": [
    {
     "name": "stdout",
     "output_type": "stream",
     "text": [
      "<class 'pandas.core.frame.DataFrame'>\n",
      "RangeIndex: 27605 entries, 0 to 27604\n",
      "Data columns (total 9 columns):\n",
      " #   Column            Non-Null Count  Dtype   \n",
      "---  ------            --------------  -----   \n",
      " 0   ID hecho          27605 non-null  object  \n",
      " 1   AAA               27605 non-null  int64   \n",
      " 2   MM                27605 non-null  int64   \n",
      " 3   DD                27605 non-null  int64   \n",
      " 4   FECHA             27605 non-null  object  \n",
      " 5   VEHICULO_VICTIMA  27605 non-null  category\n",
      " 6   SEXO              27605 non-null  category\n",
      " 7   EDAD_VICTIMA      27605 non-null  int32   \n",
      " 8   GRAVEDAD          27605 non-null  category\n",
      "dtypes: category(3), int32(1), int64(3), object(2)\n",
      "memory usage: 1.2+ MB\n"
     ]
    }
   ],
   "source": [
    "Lesionados.info()"
   ]
  },
  {
   "cell_type": "code",
   "execution_count": 31,
   "metadata": {},
   "outputs": [
    {
     "data": {
      "text/html": [
       "<div>\n",
       "<style scoped>\n",
       "    .dataframe tbody tr th:only-of-type {\n",
       "        vertical-align: middle;\n",
       "    }\n",
       "\n",
       "    .dataframe tbody tr th {\n",
       "        vertical-align: top;\n",
       "    }\n",
       "\n",
       "    .dataframe thead th {\n",
       "        text-align: right;\n",
       "    }\n",
       "</style>\n",
       "<table border=\"1\" class=\"dataframe\">\n",
       "  <thead>\n",
       "    <tr style=\"text-align: right;\">\n",
       "      <th></th>\n",
       "      <th>ID hecho</th>\n",
       "      <th>AAA</th>\n",
       "      <th>MM</th>\n",
       "      <th>DD</th>\n",
       "      <th>FECHA</th>\n",
       "      <th>VEHICULO_VICTIMA</th>\n",
       "      <th>SEXO</th>\n",
       "      <th>EDAD_VICTIMA</th>\n",
       "      <th>GRAVEDAD</th>\n",
       "    </tr>\n",
       "  </thead>\n",
       "  <tbody>\n",
       "    <tr>\n",
       "      <th>0</th>\n",
       "      <td>LC-2019-0000053</td>\n",
       "      <td>2019</td>\n",
       "      <td>1</td>\n",
       "      <td>1</td>\n",
       "      <td>2019-01-01</td>\n",
       "      <td>sd</td>\n",
       "      <td>Varon</td>\n",
       "      <td>57</td>\n",
       "      <td>SD</td>\n",
       "    </tr>\n",
       "    <tr>\n",
       "      <th>1</th>\n",
       "      <td>LC-2019-0000063</td>\n",
       "      <td>2019</td>\n",
       "      <td>1</td>\n",
       "      <td>1</td>\n",
       "      <td>2019-01-01</td>\n",
       "      <td>sd</td>\n",
       "      <td>SD</td>\n",
       "      <td>0</td>\n",
       "      <td>SD</td>\n",
       "    </tr>\n",
       "    <tr>\n",
       "      <th>2</th>\n",
       "      <td>LC-2019-0000079</td>\n",
       "      <td>2019</td>\n",
       "      <td>1</td>\n",
       "      <td>1</td>\n",
       "      <td>2019-01-01</td>\n",
       "      <td>sd</td>\n",
       "      <td>Varon</td>\n",
       "      <td>0</td>\n",
       "      <td>SD</td>\n",
       "    </tr>\n",
       "  </tbody>\n",
       "</table>\n",
       "</div>"
      ],
      "text/plain": [
       "          ID hecho   AAA  MM  DD      FECHA  VEHICULO_VICTIMA   SEXO  \\\n",
       "0  LC-2019-0000053  2019   1   1  2019-01-01               sd  Varon   \n",
       "1  LC-2019-0000063  2019   1   1  2019-01-01               sd     SD   \n",
       "2  LC-2019-0000079  2019   1   1  2019-01-01               sd  Varon   \n",
       "\n",
       "   EDAD_VICTIMA GRAVEDAD  \n",
       "0            57       SD  \n",
       "1             0       SD  \n",
       "2             0       SD  "
      ]
     },
     "execution_count": 31,
     "metadata": {},
     "output_type": "execute_result"
    }
   ],
   "source": [
    "Lesionados.head(3)"
   ]
  }
 ],
 "metadata": {
  "kernelspec": {
   "display_name": "Python 3",
   "language": "python",
   "name": "python3"
  },
  "language_info": {
   "codemirror_mode": {
    "name": "ipython",
    "version": 3
   },
   "file_extension": ".py",
   "mimetype": "text/x-python",
   "name": "python",
   "nbconvert_exporter": "python",
   "pygments_lexer": "ipython3",
   "version": "3.11.5"
  }
 },
 "nbformat": 4,
 "nbformat_minor": 2
}
